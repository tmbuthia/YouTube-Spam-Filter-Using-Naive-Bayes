{
 "cells": [
  {
   "cell_type": "markdown",
   "id": "f87dd6c1",
   "metadata": {},
   "source": [
    "This is a public set of comments collected for spam research. It has five datasets composed of 1,956 real messages extracted from five videos. These five videos are popular pop songs that were among the 10 most viewed in the collection period.Use that filter to check the accuracy of the remaining dataset."
   ]
  },
  {
   "cell_type": "code",
   "execution_count": 18,
   "id": "70c5dcc1",
   "metadata": {},
   "outputs": [
    {
     "name": "stdout",
     "output_type": "stream",
     "text": [
      "Number of spam comments of training dataset: 831\n",
      "Number of non-spam comments of training dataset: 755\n",
      "\n",
      "Number of spam comments in test predictions: 179\n",
      "Number of non-spam comments in test predictions: 191\n",
      "\n",
      "Number of features in the training data: 3699\n",
      "\n",
      "Number of features in the test data: 3699\n"
     ]
    }
   ],
   "source": [
    "import pandas as pd\n",
    "import numpy as np\n",
    "from sklearn.naive_bayes import MultinomialNB\n",
    "from sklearn.model_selection import train_test_split\n",
    "from sklearn.metrics import accuracy_score\n",
    "from sklearn.model_selection import train_test_split\n",
    "from sklearn.metrics import accuracy_score, precision_score, confusion_matrix\n",
    "from sklearn.feature_extraction.text import TfidfVectorizer\n",
    "\n",
    "# Load the four training datasets\n",
    "df1 = pd.read_csv('Youtube01-Psy.csv')\n",
    "df2 = pd.read_csv('Youtube02-KatyPerry.csv')\n",
    "df3 = pd.read_csv('Youtube03-LMFAO.csv')\n",
    "df4 = pd.read_csv('Youtube04-Eminem.csv')\n",
    "\n",
    "# Concatenate the training datasets\n",
    "training_data = pd.concat([df1, df2, df3, df4], ignore_index=True)\n",
    "\n",
    "# Preprocess the data\n",
    "training_data['DATE'] = pd.to_datetime(training_data['DATE'])\n",
    "training_data = training_data.drop(columns=['AUTHOR'])\n",
    "\n",
    "# Clean text data and convert to numerical format (TF-IDF vectors)\n",
    "tfidf_vectorizer = TfidfVectorizer(stop_words='english')\n",
    "X_train = tfidf_vectorizer.fit_transform(training_data['CONTENT'])\n",
    "y_train = training_data['CLASS']\n",
    "\n",
    "# Separate spam and non-spam comments\n",
    "spam_comments = training_data[training_data['CLASS'] == 1]\n",
    "non_spam_comments = training_data[training_data['CLASS'] == 0]\n",
    "\n",
    "# Print the number of spam and non-spam comments\n",
    "print(\"Number of spam comments of training dataset:\", len(spam_comments))\n",
    "print(\"Number of non-spam comments of training dataset:\", len(non_spam_comments))\n",
    "\n",
    "# Train the Naïve Bayes classifier\n",
    "naive_bayes = MultinomialNB()\n",
    "naive_bayes.fit(X_train, y_train)\n",
    "\n",
    "# Load the test dataset\n",
    "test_data = pd.read_csv('Youtube05-Shakira.csv')\n",
    "\n",
    "# Preprocess the test data\n",
    "test_data['DATE'] = pd.to_datetime(test_data['DATE'])\n",
    "test_data = test_data.drop(columns=['AUTHOR'])\n",
    "\n",
    "# Clean text data and convert to numerical format (TF-IDF vectors)\n",
    "X_test = tfidf_vectorizer.transform(test_data['CONTENT'])\n",
    "\n",
    "# Use the Naïve Bayes classifier to generate test_predictions\n",
    "test_predictions = naive_bayes.predict(X_test)\n",
    "\n",
    "# Separate spam and non-spam comments in test_predictions\n",
    "spam_comments = np.count_nonzero(test_predictions == 0)\n",
    "non_spam_comments = np.count_nonzero(test_predictions == 1)\n",
    "\n",
    "# Print the number of spam and non-spam comments in test_predictions\n",
    "print(\"\\nNumber of spam comments in test predictions:\", spam_comments)\n",
    "print(\"Number of non-spam comments in test predictions:\", non_spam_comments)\n",
    "\n",
    "# Get the number of features after TF-IDF vectorization\n",
    "num_features = len(tfidf_vectorizer.vocabulary_)\n",
    "\n",
    "# Print the number of features\n",
    "print(\"\\nNumber of features in the training data:\", num_features)\n",
    "\n",
    "# Get the number of features in the test data\n",
    "num_features_test = X_test.shape[1]\n",
    "\n",
    "print(\"\\nNumber of features in the test data:\", num_features_test)"
   ]
  },
  {
   "cell_type": "code",
   "execution_count": 16,
   "id": "ebae10f4",
   "metadata": {},
   "outputs": [
    {
     "name": "stdout",
     "output_type": "stream",
     "text": [
      "Accuracy: 0.8729729729729729\n",
      "\n",
      "Precision: 0.8324607329842932\n",
      "\n",
      "Confusion Matrix:\n",
      "[[164  32]\n",
      " [ 15 159]]\n"
     ]
    }
   ],
   "source": [
    "# Evaluate the model\n",
    "accuracy = accuracy_score(test_data['CLASS'], test_predictions)\n",
    "precision = precision_score(test_data['CLASS'], test_predictions)\n",
    "conf_matrix = confusion_matrix(test_data['CLASS'], test_predictions)\n",
    "\n",
    "print(\"Accuracy:\", accuracy)\n",
    "print(\"\\nPrecision:\", precision)\n",
    "print(\"\\nConfusion Matrix:\")\n",
    "print(conf_matrix)"
   ]
  },
  {
   "cell_type": "code",
   "execution_count": 17,
   "id": "00dabfbd",
   "metadata": {},
   "outputs": [
    {
     "data": {
      "image/png": "[encoded data removed]",
      "text/plain": [
       "<Figure size 640x480 with 2 Axes>"
      ]
     },
     "metadata": {},
     "output_type": "display_data"
    }
   ],
   "source": [
    "import matplotlib.pyplot as plt\n",
    "import seaborn as sns\n",
    "\n",
    "# Plot the confusion matrix\n",
    "sns.heatmap(conf_matrix, annot=True, cmap='Blues', fmt='g', \n",
    "            xticklabels=['Non-Spam', 'Spam'], \n",
    "            yticklabels=['Non-Spam', 'Spam'])\n",
    "plt.xlabel('Predicted labels')\n",
    "plt.ylabel('True labels')\n",
    "plt.title('Confusion Matrix')\n",
    "plt.show()"
   ]
  },
  {
   "cell_type": "markdown",
   "id": "c7d347f2",
   "metadata": {},
   "source": [
    "# Results & Analysis"
   ]
  },
  {
   "cell_type": "markdown",
   "id": "ee8fa1b9",
   "metadata": {},
   "source": [
    "Preprocessing and Feature Engineering:\n",
    "- Converted text data to TF-IDF vectors using sklearn.feature_extraction.text.TfidfVectorizer\n",
    "- Dropped the 'AUTHOR' column as it was not used in the model training\n",
    "- Converted the 'DATE' column to datetime format\n",
    "\n",
    "Train-Test Split:\n",
    "- Used first 4 datasets for training and the fifth as the test dataset\n",
    "\n",
    "Model Training:\n",
    "- Used sklearn.naive_bayes.MultinomialNB as the Naive Bayes classifier\n",
    "- Fit the model on the training data (X_train, y_train)\n",
    "\n",
    "Model Information:\n",
    "Naïve Bayes algorithm used: MultinomialNB\n",
    "TF-IDF vectorization used for feature extraction\n",
    "  \n",
    "Model Training Details:\n",
    "Dataset Information:\n",
    "Number of training samples: 1956\n",
    "Number of features (after TF-IDF vectorization): [3699]\n",
    "Class distribution:\n",
    "    - Spam comments: [831]\n",
    "    - Non-spam comments: [755]\n",
    "    \n",
    "Model test data Details:\n",
    "Dataset Information:\n",
    "Number of test samples: 370\n",
    "Number of features (after TF-IDF vectorization): [3699]\n",
    "Class distribution after prediction:\n",
    "    - Spam comments: [179]\n",
    "    - Non-spam comments: [191]\n",
    "    \n",
    "Model Evaluation:\n",
    "- Used the trained model to make predictions on the test data (X_test)\n",
    "- Calculated the accuracy, precision and confusion matrix of the model on the test data using sklearn.metrics.accuracy_score\n",
    "- Test Accuracy: 0.8729729729729729 (approximately 87.3%)\n",
    "- Test Precision:\n",
    "- Confusion Matrix:\n",
    "\n",
    "With a test accuracy of 0.873, the spam filter was able to identify about 87.3% of the comments were properly identified as spam or non-spam, indicating that the model has taken the relevant patterns from the training set and is capable of making good generalizations to new data.\n",
    "\n",
    "The precision score of approximately 0.832 indicates that around 83.2% of the comments predicted as spam by the classifier were actually spam, while the remaining 16.8% were false positives.\n",
    "\n",
    "Now, let's interpret the confusion matrix: classifier cor\n",
    "\n",
    "True Positives (TP): The classifier correctly predicted 164 comments as spam.\n",
    "False Positives (FP): The classifier incorrectly predicted 32 non-spam comments as spam.\n",
    "True Negatives (TN): The classifier correctly predicted 159 comments as non-spam.\n",
    "False Negatives (FN): The classifier incorrectly predicted 15 spam comments as non-spam."
   ]
  }
 ],
 "metadata": {
  "kernelspec": {
   "display_name": "Python 3 (ipykernel)",
   "language": "python",
   "name": "python3"
  },
  "language_info": {
   "codemirror_mode": {
    "name": "ipython",
    "version": 3
   },
   "file_extension": ".py",
   "mimetype": "text/x-python",
   "name": "python",
   "nbconvert_exporter": "python",
   "pygments_lexer": "ipython3",
   "version": "3.11.5"
  }
 },
 "nbformat": 4,
 "nbformat_minor": 5
}
